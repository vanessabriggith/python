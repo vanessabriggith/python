{
  "nbformat": 4,
  "nbformat_minor": 0,
  "metadata": {
    "colab": {
      "provenance": [],
      "authorship_tag": "ABX9TyPfRuhxxtXxsZ3W9o+CzzAs",
      "include_colab_link": true
    },
    "kernelspec": {
      "name": "python3",
      "display_name": "Python 3"
    },
    "language_info": {
      "name": "python"
    }
  },
  "cells": [
    {
      "cell_type": "markdown",
      "metadata": {
        "id": "view-in-github",
        "colab_type": "text"
      },
      "source": [
        "<a href=\"https://colab.research.google.com/github/vanessabriggith/python/blob/main/EjerciciosPython.ipynb\" target=\"_parent\"><img src=\"https://colab.research.google.com/assets/colab-badge.svg\" alt=\"Open In Colab\"/></a>"
      ]
    },
    {
      "cell_type": "code",
      "execution_count": 34,
      "metadata": {
        "colab": {
          "base_uri": "https://localhost:8080/",
          "height": 35
        },
        "id": "Km2kDttcfjWP",
        "outputId": "208eda9c-40e3-4968-9f1d-5bb466e844d9"
      },
      "outputs": [
        {
          "output_type": "execute_result",
          "data": {
            "text/plain": [
              "'1.22.4'"
            ],
            "application/vnd.google.colaboratory.intrinsic+json": {
              "type": "string"
            }
          },
          "metadata": {},
          "execution_count": 34
        }
      ],
      "source": [
        "# 1. Import numpy as np and see the version\n",
        "\n",
        "import numpy as np\n",
        "np.__version__\n"
      ]
    },
    {
      "cell_type": "code",
      "source": [
        "# 2. Create a 1D array of numbers from 0 to 9\n",
        "import numpy as np\n",
        "a = np.array([0, 1, 2,3,4,5,6,7,8,9])\n",
        "print(a)"
      ],
      "metadata": {
        "colab": {
          "base_uri": "https://localhost:8080/"
        },
        "id": "GqacPrOShDKh",
        "outputId": "fd1f0da5-3356-486c-9b44-aadc632c0098"
      },
      "execution_count": 35,
      "outputs": [
        {
          "output_type": "stream",
          "name": "stdout",
          "text": [
            "[0 1 2 3 4 5 6 7 8 9]\n"
          ]
        }
      ]
    },
    {
      "cell_type": "code",
      "source": [
        "# 3. Create a 3×3 numpy array of all True’s\n",
        "import numpy as np\n",
        "n=np.full((3, 3), True)\n",
        "print(n)"
      ],
      "metadata": {
        "colab": {
          "base_uri": "https://localhost:8080/"
        },
        "id": "Z-0IcuIAiz6Y",
        "outputId": "206df42a-9295-455e-dbd2-be888c1db81c"
      },
      "execution_count": 36,
      "outputs": [
        {
          "output_type": "stream",
          "name": "stdout",
          "text": [
            "[[ True  True  True]\n",
            " [ True  True  True]\n",
            " [ True  True  True]]\n"
          ]
        }
      ]
    },
    {
      "cell_type": "code",
      "source": [
        "# 4. Extract all odd numbers from arr\n",
        "import numpy as np\n",
        "a = np.array([0, 1, 2,3,4,5,6,7,8,9])\n",
        "print(a[a % 2 == 1])\n"
      ],
      "metadata": {
        "colab": {
          "base_uri": "https://localhost:8080/"
        },
        "id": "-mxgqYPBjn8y",
        "outputId": "071e5773-ddea-4329-e181-694d861344ee"
      },
      "execution_count": 37,
      "outputs": [
        {
          "output_type": "stream",
          "name": "stdout",
          "text": [
            "[1 3 5 7 9]\n"
          ]
        }
      ]
    },
    {
      "cell_type": "code",
      "source": [
        "from numpy.core.fromnumeric import clip\n",
        "# 5. Replace all odd numbers in arr with -1\n",
        "\n",
        "import numpy as np\n",
        "a = np.array([0, 1, 2,3,4,5,6,7,8,9])\n",
        "a1=(a[a % 2 == 1])\n",
        "result=np.clip(a1,0,-1)\n",
        "print(result)\n",
        "\n",
        "\n"
      ],
      "metadata": {
        "colab": {
          "base_uri": "https://localhost:8080/"
        },
        "id": "mYCYjZw6kUsK",
        "outputId": "4ff64f43-8717-403d-b431-0213da4fdc02"
      },
      "execution_count": 38,
      "outputs": [
        {
          "output_type": "stream",
          "name": "stdout",
          "text": [
            "[-1 -1 -1 -1 -1]\n"
          ]
        }
      ]
    },
    {
      "cell_type": "code",
      "source": [
        "#  6. Convert a 1D array to a 2D array with 2 rows\n",
        "a = np.array((10,20,30))\n",
        "b = np.array((20,30,40))\n",
        "#print(a,b)\n",
        "print(np.column_stack((a,b)))"
      ],
      "metadata": {
        "colab": {
          "base_uri": "https://localhost:8080/"
        },
        "id": "VhqV9-UOcuLE",
        "outputId": "799e71a2-1b96-4386-b4b4-8cf20c802b2f"
      },
      "execution_count": 39,
      "outputs": [
        {
          "output_type": "stream",
          "name": "stdout",
          "text": [
            "[[10 20]\n",
            " [20 30]\n",
            " [30 40]]\n"
          ]
        }
      ]
    },
    {
      "cell_type": "code",
      "source": [
        "#  7. Stack arrays a and b vertically\n",
        "import numpy as np\n",
        "a = np.array([[5], [6], [7]])\n",
        "b = np.array([[8], [9], [10]])\n",
        "print(np.vstack((a,b)))"
      ],
      "metadata": {
        "colab": {
          "base_uri": "https://localhost:8080/"
        },
        "id": "M-vzZk73cyXb",
        "outputId": "fc61e55f-6f63-4c3d-cbc9-d75ad1943be8"
      },
      "execution_count": 40,
      "outputs": [
        {
          "output_type": "stream",
          "name": "stdout",
          "text": [
            "[[ 5]\n",
            " [ 6]\n",
            " [ 7]\n",
            " [ 8]\n",
            " [ 9]\n",
            " [10]]\n"
          ]
        }
      ]
    },
    {
      "cell_type": "code",
      "source": [
        "#  8. Stack the arrays a and b horizontally.\n",
        "import numpy as np\n",
        "a = np.array((8,9,10))\n",
        "b = np.array((11,12,13))\n",
        "print(np.hstack((a,b)))"
      ],
      "metadata": {
        "colab": {
          "base_uri": "https://localhost:8080/"
        },
        "id": "ZuTAHyOwc1iK",
        "outputId": "787d7c8e-1790-4048-f41e-2c26a9f957e3"
      },
      "execution_count": 41,
      "outputs": [
        {
          "output_type": "stream",
          "name": "stdout",
          "text": [
            "[ 8  9 10 11 12 13]\n"
          ]
        }
      ]
    },
    {
      "cell_type": "code",
      "source": [
        "#  9. Get all items between 5 and 10 from a.\n",
        "import numpy as np\n",
        "someList=list()\n",
        "someList=['borrador','cuaderno','goma','vasos','esfero','lapiz','mouse','peinilla','agua','mascarilla','calculadora']\n",
        "print (someList[5:10])"
      ],
      "metadata": {
        "colab": {
          "base_uri": "https://localhost:8080/"
        },
        "id": "STH1qHT-c3P7",
        "outputId": "2ad26b75-683b-4114-b7bf-cbfe297aec53"
      },
      "execution_count": 42,
      "outputs": [
        {
          "output_type": "stream",
          "name": "stdout",
          "text": [
            "['lapiz', 'mouse', 'peinilla', 'agua', 'mascarilla']\n"
          ]
        }
      ]
    },
    {
      "cell_type": "code",
      "source": [
        "#  10. How to make a python function that handles scalars to work on numpy arrays?\n",
        "# Hint\n",
        "# Desired Output:\n",
        "# a = np.array([5, 7, 9, 8, 6, 4, 5])\n",
        "# b = np.array([6, 3, 4, 8, 9, 7, 1])\n",
        "# pair_max(a, b)\n",
        "# #> array([ 6.,  7.,  9.,  8.,  9.,  7.,  5.])\n",
        "\n",
        "import numpy as np\n",
        "a = np.array([5, 7, 9, 8, 6, 4, 5])\n",
        "b = np.array([6, 3, 4, 8, 9, 7, 1])\n",
        "\n",
        "max_a = None\n",
        "for a1 in a:\n",
        "    if (max_a is None or a1 > max_a):\n",
        "        max_a = a1\n",
        "\n",
        "\n",
        "max_b = None\n",
        "for b1 in b:\n",
        "    if (max_b is None or b1 > max_b):\n",
        "        max_b = b1\n",
        "\n",
        "print('Valor maximo de A:',max_a,'Valor maximo de B:' ,max_b)"
      ],
      "metadata": {
        "colab": {
          "base_uri": "https://localhost:8080/"
        },
        "id": "cNConrzec49E",
        "outputId": "e6ae8d43-6226-4a90-dbd7-df7d6339a577"
      },
      "execution_count": 43,
      "outputs": [
        {
          "output_type": "stream",
          "name": "stdout",
          "text": [
            "Valor maximo de A: 9 Valor maximo de B: 9\n"
          ]
        }
      ]
    },
    {
      "cell_type": "code",
      "source": [
        "#  11. Swap columns 1 and 2 in the array arr.\n",
        "# Hint\n",
        "# Desired Output:\n",
        "# [[0 2 1]\n",
        "#  [3 5 4]\n",
        "#  [6 8 7]]\n",
        "\n",
        "import numpy as np\n",
        "arr = np.arange(9).reshape(3,3)\n",
        "print(\"Original\")\n",
        "print(arr)\n",
        "\n",
        "def Swap(arr, start_index, last_index):\n",
        "    arr[:, [start_index, last_index]] = arr[:, [last_index, start_index]]\n",
        "Swap(arr, 0, 1)\n",
        "print(\"Intercamnio:\")\n",
        "print(arr)"
      ],
      "metadata": {
        "colab": {
          "base_uri": "https://localhost:8080/"
        },
        "id": "m5wxtcC_c81q",
        "outputId": "6e34fac6-fff5-4a9e-c2e4-7ddde99b90be"
      },
      "execution_count": 45,
      "outputs": [
        {
          "output_type": "stream",
          "name": "stdout",
          "text": [
            "Original\n",
            "[[0 1 2]\n",
            " [3 4 5]\n",
            " [6 7 8]]\n",
            "Intercamnio:\n",
            "[[1 0 2]\n",
            " [4 3 5]\n",
            " [7 6 8]]\n"
          ]
        }
      ]
    },
    {
      "cell_type": "code",
      "source": [
        "#  12. Create a 2D array of shape 5x3 to contain random decimal numbers between 5 and 10.\n",
        "# Hint\n",
        "# The desired Output should be like the following one:\n",
        "#  [[ 8.50061025  9.10531502  6.85867783]\n",
        "#   [ 9.76262069  9.87717411  7.13466701]\n",
        "#   [ 7.48966403  8.33409158  6.16808631]\n",
        "#   [ 7.75010551  9.94535696  5.27373226]\n",
        "#   [ 8.0850361   5.56165518  7.31244004]]\n",
        "import numpy as np\n",
        "array = np.random.uniform(5, 10, size=(5, 3))\n",
        "print(array)\n"
      ],
      "metadata": {
        "colab": {
          "base_uri": "https://localhost:8080/"
        },
        "id": "ATQ8zakodAj8",
        "outputId": "b577fc80-b4e0-4380-9fc1-bc5dd784ae12"
      },
      "execution_count": 53,
      "outputs": [
        {
          "output_type": "stream",
          "name": "stdout",
          "text": [
            "[[6.52911998 6.41148573 9.86151444]\n",
            " [9.39463087 7.24857447 9.04712717]\n",
            " [5.80828134 9.87530982 5.22051773]\n",
            " [9.86988575 6.10289142 9.8539461 ]\n",
            " [6.92832123 9.01943019 6.12886097]]\n"
          ]
        }
      ]
    }
  ]
}