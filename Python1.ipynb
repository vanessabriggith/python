{
  "nbformat": 4,
  "nbformat_minor": 0,
  "metadata": {
    "colab": {
      "provenance": [],
      "authorship_tag": "ABX9TyNHMOAeaiVwndxK4XZoR0t0",
      "include_colab_link": true
    },
    "kernelspec": {
      "name": "python3",
      "display_name": "Python 3"
    },
    "language_info": {
      "name": "python"
    }
  },
  "cells": [
    {
      "cell_type": "markdown",
      "metadata": {
        "id": "view-in-github",
        "colab_type": "text"
      },
      "source": [
        "<a href=\"https://colab.research.google.com/github/vanessabriggith/python/blob/main/Python1.ipynb\" target=\"_parent\"><img src=\"https://colab.research.google.com/assets/colab-badge.svg\" alt=\"Open In Colab\"/></a>"
      ]
    },
    {
      "cell_type": "code",
      "execution_count": 5,
      "metadata": {
        "colab": {
          "base_uri": "https://localhost:8080/"
        },
        "id": "35uayzv55GhP",
        "outputId": "67c75151-791b-4e7a-becd-765050427de6"
      },
      "outputs": [
        {
          "output_type": "stream",
          "name": "stdout",
          "text": [
            "Python 3.10.12\n"
          ]
        }
      ],
      "source": [
        "!python --version"
      ]
    },
    {
      "cell_type": "markdown",
      "source": [
        "tipos de datos basicos"
      ],
      "metadata": {
        "id": "5bRxzIRL59Gy"
      }
    },
    {
      "cell_type": "markdown",
      "source": [
        "crear variables enteras"
      ],
      "metadata": {
        "id": "kYgxyYXQ53IR"
      }
    },
    {
      "cell_type": "code",
      "source": [
        "sample1=10\n",
        "sample2=2.2\n",
        "print (type(sample1))\n",
        "print (type(sample2))"
      ],
      "metadata": {
        "colab": {
          "base_uri": "https://localhost:8080/"
        },
        "id": "wPabaMgM56PE",
        "outputId": "ff7ef151-0f49-4d8e-efab-9afcb2cbfa33"
      },
      "execution_count": 6,
      "outputs": [
        {
          "output_type": "stream",
          "name": "stdout",
          "text": [
            "<class 'int'>\n",
            "<class 'float'>\n"
          ]
        }
      ]
    },
    {
      "cell_type": "markdown",
      "source": [
        "operaciones basicas"
      ],
      "metadata": {
        "id": "T1bH9QdR6v1u"
      }
    },
    {
      "cell_type": "code",
      "source": [
        "print (sample1+sample2)\n",
        "print (sample1-sample2)\n",
        "print (sample1**2)\n"
      ],
      "metadata": {
        "colab": {
          "base_uri": "https://localhost:8080/"
        },
        "id": "3t5riZA06z6o",
        "outputId": "acff54b1-8240-4601-a6a4-0e4facd32d8f"
      },
      "execution_count": 9,
      "outputs": [
        {
          "output_type": "stream",
          "name": "stdout",
          "text": [
            "12.2\n",
            "7.8\n",
            "100\n"
          ]
        }
      ]
    },
    {
      "cell_type": "markdown",
      "source": [
        "datos booleanos"
      ],
      "metadata": {
        "id": "P0BPlv1_81D0"
      }
    },
    {
      "cell_type": "code",
      "source": [
        "s1=True\n",
        "s2=False\n",
        "print (s1 and s2)\n",
        "print (s1 or s2)\n",
        "print (not s1)\n",
        "\n"
      ],
      "metadata": {
        "colab": {
          "base_uri": "https://localhost:8080/"
        },
        "id": "RaqJ1CQg9ArP",
        "outputId": "f0a37442-c3ff-4d1e-a54c-f734e5d0f449"
      },
      "execution_count": 12,
      "outputs": [
        {
          "output_type": "stream",
          "name": "stdout",
          "text": [
            "False\n",
            "True\n",
            "False\n"
          ]
        }
      ]
    },
    {
      "cell_type": "markdown",
      "source": [
        "contar numero de letras"
      ],
      "metadata": {
        "id": "V09DSC9T9w2C"
      }
    },
    {
      "cell_type": "code",
      "source": [
        "sample3='juan'\n",
        "print(len(sample3))\n"
      ],
      "metadata": {
        "colab": {
          "base_uri": "https://localhost:8080/"
        },
        "id": "TB9zr3aV9y_-",
        "outputId": "1550a5ce-2f9f-45a6-e664-e55b1d9a6584"
      },
      "execution_count": 13,
      "outputs": [
        {
          "output_type": "stream",
          "name": "stdout",
          "text": [
            "4\n"
          ]
        }
      ]
    },
    {
      "cell_type": "markdown",
      "source": [
        "pasar todo a mayuscula"
      ],
      "metadata": {
        "id": "LW2gqf1z-LrX"
      }
    },
    {
      "cell_type": "code",
      "source": [
        "print(sample3.upper())\n",
        "print(sample3.lower())\n",
        "print(sample3.capitalize())\n"
      ],
      "metadata": {
        "colab": {
          "base_uri": "https://localhost:8080/"
        },
        "id": "21PREi4J-OJp",
        "outputId": "9583a5d5-20d9-41fc-ae05-fe06035d030e"
      },
      "execution_count": 16,
      "outputs": [
        {
          "output_type": "stream",
          "name": "stdout",
          "text": [
            "JUAN\n",
            "juan\n",
            "Juan\n"
          ]
        }
      ]
    },
    {
      "cell_type": "markdown",
      "source": [
        "crear una lista"
      ],
      "metadata": {
        "id": "OLVlfEitEUEj"
      }
    },
    {
      "cell_type": "code",
      "source": [
        "someList=list()\n",
        "someList=['borrador','cuaderno','goma']\n",
        "print (someList[2])\n",
        "print (len(someList))"
      ],
      "metadata": {
        "colab": {
          "base_uri": "https://localhost:8080/"
        },
        "id": "VXWfdJvQEV5o",
        "outputId": "2fb0034d-3092-4e2f-eeb5-2ff9fe4a6ab8"
      },
      "execution_count": 19,
      "outputs": [
        {
          "output_type": "stream",
          "name": "stdout",
          "text": [
            "goma\n",
            "3\n"
          ]
        }
      ]
    },
    {
      "cell_type": "markdown",
      "source": [
        "imprimir toda la lista"
      ],
      "metadata": {
        "id": "6oulIWDMJPHE"
      }
    },
    {
      "cell_type": "code",
      "source": [
        "for i in someList:\n",
        "  print(i)"
      ],
      "metadata": {
        "colab": {
          "base_uri": "https://localhost:8080/"
        },
        "id": "xXyAxfjRJRMs",
        "outputId": "2fe6fcc1-988c-4fb9-f2a2-e1538bde32ac"
      },
      "execution_count": 20,
      "outputs": [
        {
          "output_type": "stream",
          "name": "stdout",
          "text": [
            "borrador\n",
            "cuaderno\n",
            "goma\n"
          ]
        }
      ]
    },
    {
      "cell_type": "markdown",
      "source": [
        "agregar algo mas a la lista"
      ],
      "metadata": {
        "id": "qPSsj1koJqSu"
      }
    },
    {
      "cell_type": "code",
      "source": [
        "someList.append('tijera')\n",
        "for i in someList:\n",
        "  print(i)"
      ],
      "metadata": {
        "colab": {
          "base_uri": "https://localhost:8080/"
        },
        "id": "kNc4_7XdJtSH",
        "outputId": "9c03a484-c10f-4d62-dabd-9663366bf285"
      },
      "execution_count": 21,
      "outputs": [
        {
          "output_type": "stream",
          "name": "stdout",
          "text": [
            "borrador\n",
            "cuaderno\n",
            "goma\n",
            "tijera\n"
          ]
        }
      ]
    }
  ]
}